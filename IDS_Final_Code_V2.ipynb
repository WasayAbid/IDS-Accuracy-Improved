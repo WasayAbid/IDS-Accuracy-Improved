{
  "cells": [
    {
      "cell_type": "markdown",
      "source": [
        "# **Import Libraries and Load Data**"
      ],
      "metadata": {
        "id": "MVhTLgGjs-jd"
      },
      "id": "MVhTLgGjs-jd"
    },
    {
      "cell_type": "code",
      "source": [
        "import pandas as pd\n",
        "import numpy as np\n",
        "from sklearn.model_selection import train_test_split\n",
        "from sklearn.preprocessing import LabelEncoder, StandardScaler\n",
        "from sklearn.metrics import accuracy_score, precision_score, recall_score, f1_score, confusion_matrix\n",
        "import matplotlib.pyplot as plt\n",
        "import seaborn as sns\n",
        "from sklearn.model_selection import GridSearchCV, learning_curve, validation_curve\n",
        "from sklearn.tree import DecisionTreeClassifier\n",
        "from sklearn.ensemble import RandomForestClassifier\n",
        "from sklearn.neighbors import KNeighborsClassifier\n",
        "import xgboost as xgb\n",
        "from sklearn.svm import SVC\n",
        "from sklearn.linear_model import LogisticRegression\n"
      ],
      "metadata": {
        "id": "wiIrPO6WhfSO"
      },
      "id": "wiIrPO6WhfSO",
      "execution_count": null,
      "outputs": []
    },
    {
      "cell_type": "markdown",
      "source": [
        "#**Load the dataset**\n"
      ],
      "metadata": {
        "id": "JvWJcI3_16Kn"
      },
      "id": "JvWJcI3_16Kn"
    },
    {
      "cell_type": "code",
      "source": [
        "\n",
        "train_df = pd.read_csv('/content/kdd_train.csv')\n",
        "test_df = pd.read_csv('/content/kdd_test.csv')"
      ],
      "metadata": {
        "id": "cufHLat1hgcc"
      },
      "id": "cufHLat1hgcc",
      "execution_count": null,
      "outputs": []
    },
    {
      "cell_type": "markdown",
      "source": [
        "\n",
        "\n",
        "---\n",
        "\n"
      ],
      "metadata": {
        "id": "6X9qSr0xLiUo"
      },
      "id": "6X9qSr0xLiUo"
    },
    {
      "cell_type": "markdown",
      "source": [
        "# **Data Glance**"
      ],
      "metadata": {
        "id": "5s3xyiPnK181"
      },
      "id": "5s3xyiPnK181"
    },
    {
      "cell_type": "markdown",
      "source": [
        "## **First 5 rows of the Dataset**"
      ],
      "metadata": {
        "id": "8cLYJUt_KjNI"
      },
      "id": "8cLYJUt_KjNI"
    },
    {
      "cell_type": "code",
      "source": [
        "train_df.head()"
      ],
      "metadata": {
        "colab": {
          "base_uri": "https://localhost:8080/",
          "height": 256
        },
        "id": "m1t0eFdx-RNA",
        "outputId": "ae5c0ede-ffac-4a0f-ab47-c047c4668d0d"
      },
      "id": "m1t0eFdx-RNA",
      "execution_count": null,
      "outputs": [
        {
          "output_type": "execute_result",
          "data": {
            "text/plain": [
              "   duration protocol_type   service flag  src_bytes  dst_bytes  land  \\\n",
              "0         0           tcp  ftp_data   SF        491          0     0   \n",
              "1         0           udp     other   SF        146          0     0   \n",
              "2         0           tcp   private   S0          0          0     0   \n",
              "3         0           tcp      http   SF        232       8153     0   \n",
              "4         0           tcp      http   SF        199        420     0   \n",
              "\n",
              "   wrong_fragment  urgent  hot  ...  dst_host_srv_count  \\\n",
              "0               0       0    0  ...                  25   \n",
              "1               0       0    0  ...                   1   \n",
              "2               0       0    0  ...                  26   \n",
              "3               0       0    0  ...                 255   \n",
              "4               0       0    0  ...                 255   \n",
              "\n",
              "   dst_host_same_srv_rate  dst_host_diff_srv_rate  \\\n",
              "0                    0.17                    0.03   \n",
              "1                    0.00                    0.60   \n",
              "2                    0.10                    0.05   \n",
              "3                    1.00                    0.00   \n",
              "4                    1.00                    0.00   \n",
              "\n",
              "   dst_host_same_src_port_rate  dst_host_srv_diff_host_rate  \\\n",
              "0                         0.17                         0.00   \n",
              "1                         0.88                         0.00   \n",
              "2                         0.00                         0.00   \n",
              "3                         0.03                         0.04   \n",
              "4                         0.00                         0.00   \n",
              "\n",
              "   dst_host_serror_rate  dst_host_srv_serror_rate  dst_host_rerror_rate  \\\n",
              "0                  0.00                      0.00                  0.05   \n",
              "1                  0.00                      0.00                  0.00   \n",
              "2                  1.00                      1.00                  0.00   \n",
              "3                  0.03                      0.01                  0.00   \n",
              "4                  0.00                      0.00                  0.00   \n",
              "\n",
              "   dst_host_srv_rerror_rate   labels  \n",
              "0                      0.00   normal  \n",
              "1                      0.00   normal  \n",
              "2                      0.00  neptune  \n",
              "3                      0.01   normal  \n",
              "4                      0.00   normal  \n",
              "\n",
              "[5 rows x 42 columns]"
            ],
            "text/html": [
              "\n",
              "  <div id=\"df-ddc52c86-b11e-455f-9627-d763f16151b2\" class=\"colab-df-container\">\n",
              "    <div>\n",
              "<style scoped>\n",
              "    .dataframe tbody tr th:only-of-type {\n",
              "        vertical-align: middle;\n",
              "    }\n",
              "\n",
              "    .dataframe tbody tr th {\n",
              "        vertical-align: top;\n",
              "    }\n",
              "\n",
              "    .dataframe thead th {\n",
              "        text-align: right;\n",
              "    }\n",
              "</style>\n",
              "<table border=\"1\" class=\"dataframe\">\n",
              "  <thead>\n",
              "    <tr style=\"text-align: right;\">\n",
              "      <th></th>\n",
              "      <th>duration</th>\n",
              "      <th>protocol_type</th>\n",
              "      <th>service</th>\n",
              "      <th>flag</th>\n",
              "      <th>src_bytes</th>\n",
              "      <th>dst_bytes</th>\n",
              "      <th>land</th>\n",
              "      <th>wrong_fragment</th>\n",
              "      <th>urgent</th>\n",
              "      <th>hot</th>\n",
              "      <th>...</th>\n",
              "      <th>dst_host_srv_count</th>\n",
              "      <th>dst_host_same_srv_rate</th>\n",
              "      <th>dst_host_diff_srv_rate</th>\n",
              "      <th>dst_host_same_src_port_rate</th>\n",
              "      <th>dst_host_srv_diff_host_rate</th>\n",
              "      <th>dst_host_serror_rate</th>\n",
              "      <th>dst_host_srv_serror_rate</th>\n",
              "      <th>dst_host_rerror_rate</th>\n",
              "      <th>dst_host_srv_rerror_rate</th>\n",
              "      <th>labels</th>\n",
              "    </tr>\n",
              "  </thead>\n",
              "  <tbody>\n",
              "    <tr>\n",
              "      <th>0</th>\n",
              "      <td>0</td>\n",
              "      <td>tcp</td>\n",
              "      <td>ftp_data</td>\n",
              "      <td>SF</td>\n",
              "      <td>491</td>\n",
              "      <td>0</td>\n",
              "      <td>0</td>\n",
              "      <td>0</td>\n",
              "      <td>0</td>\n",
              "      <td>0</td>\n",
              "      <td>...</td>\n",
              "      <td>25</td>\n",
              "      <td>0.17</td>\n",
              "      <td>0.03</td>\n",
              "      <td>0.17</td>\n",
              "      <td>0.00</td>\n",
              "      <td>0.00</td>\n",
              "      <td>0.00</td>\n",
              "      <td>0.05</td>\n",
              "      <td>0.00</td>\n",
              "      <td>normal</td>\n",
              "    </tr>\n",
              "    <tr>\n",
              "      <th>1</th>\n",
              "      <td>0</td>\n",
              "      <td>udp</td>\n",
              "      <td>other</td>\n",
              "      <td>SF</td>\n",
              "      <td>146</td>\n",
              "      <td>0</td>\n",
              "      <td>0</td>\n",
              "      <td>0</td>\n",
              "      <td>0</td>\n",
              "      <td>0</td>\n",
              "      <td>...</td>\n",
              "      <td>1</td>\n",
              "      <td>0.00</td>\n",
              "      <td>0.60</td>\n",
              "      <td>0.88</td>\n",
              "      <td>0.00</td>\n",
              "      <td>0.00</td>\n",
              "      <td>0.00</td>\n",
              "      <td>0.00</td>\n",
              "      <td>0.00</td>\n",
              "      <td>normal</td>\n",
              "    </tr>\n",
              "    <tr>\n",
              "      <th>2</th>\n",
              "      <td>0</td>\n",
              "      <td>tcp</td>\n",
              "      <td>private</td>\n",
              "      <td>S0</td>\n",
              "      <td>0</td>\n",
              "      <td>0</td>\n",
              "      <td>0</td>\n",
              "      <td>0</td>\n",
              "      <td>0</td>\n",
              "      <td>0</td>\n",
              "      <td>...</td>\n",
              "      <td>26</td>\n",
              "      <td>0.10</td>\n",
              "      <td>0.05</td>\n",
              "      <td>0.00</td>\n",
              "      <td>0.00</td>\n",
              "      <td>1.00</td>\n",
              "      <td>1.00</td>\n",
              "      <td>0.00</td>\n",
              "      <td>0.00</td>\n",
              "      <td>neptune</td>\n",
              "    </tr>\n",
              "    <tr>\n",
              "      <th>3</th>\n",
              "      <td>0</td>\n",
              "      <td>tcp</td>\n",
              "      <td>http</td>\n",
              "      <td>SF</td>\n",
              "      <td>232</td>\n",
              "      <td>8153</td>\n",
              "      <td>0</td>\n",
              "      <td>0</td>\n",
              "      <td>0</td>\n",
              "      <td>0</td>\n",
              "      <td>...</td>\n",
              "      <td>255</td>\n",
              "      <td>1.00</td>\n",
              "      <td>0.00</td>\n",
              "      <td>0.03</td>\n",
              "      <td>0.04</td>\n",
              "      <td>0.03</td>\n",
              "      <td>0.01</td>\n",
              "      <td>0.00</td>\n",
              "      <td>0.01</td>\n",
              "      <td>normal</td>\n",
              "    </tr>\n",
              "    <tr>\n",
              "      <th>4</th>\n",
              "      <td>0</td>\n",
              "      <td>tcp</td>\n",
              "      <td>http</td>\n",
              "      <td>SF</td>\n",
              "      <td>199</td>\n",
              "      <td>420</td>\n",
              "      <td>0</td>\n",
              "      <td>0</td>\n",
              "      <td>0</td>\n",
              "      <td>0</td>\n",
              "      <td>...</td>\n",
              "      <td>255</td>\n",
              "      <td>1.00</td>\n",
              "      <td>0.00</td>\n",
              "      <td>0.00</td>\n",
              "      <td>0.00</td>\n",
              "      <td>0.00</td>\n",
              "      <td>0.00</td>\n",
              "      <td>0.00</td>\n",
              "      <td>0.00</td>\n",
              "      <td>normal</td>\n",
              "    </tr>\n",
              "  </tbody>\n",
              "</table>\n",
              "<p>5 rows × 42 columns</p>\n",
              "</div>\n",
              "    <div class=\"colab-df-buttons\">\n",
              "\n",
              "  <div class=\"colab-df-container\">\n",
              "    <button class=\"colab-df-convert\" onclick=\"convertToInteractive('df-ddc52c86-b11e-455f-9627-d763f16151b2')\"\n",
              "            title=\"Convert this dataframe to an interactive table.\"\n",
              "            style=\"display:none;\">\n",
              "\n",
              "  <svg xmlns=\"http://www.w3.org/2000/svg\" height=\"24px\" viewBox=\"0 -960 960 960\">\n",
              "    <path d=\"M120-120v-720h720v720H120Zm60-500h600v-160H180v160Zm220 220h160v-160H400v160Zm0 220h160v-160H400v160ZM180-400h160v-160H180v160Zm440 0h160v-160H620v160ZM180-180h160v-160H180v160Zm440 0h160v-160H620v160Z\"/>\n",
              "  </svg>\n",
              "    </button>\n",
              "\n",
              "  <style>\n",
              "    .colab-df-container {\n",
              "      display:flex;\n",
              "      gap: 12px;\n",
              "    }\n",
              "\n",
              "    .colab-df-convert {\n",
              "      background-color: #E8F0FE;\n",
              "      border: none;\n",
              "      border-radius: 50%;\n",
              "      cursor: pointer;\n",
              "      display: none;\n",
              "      fill: #1967D2;\n",
              "      height: 32px;\n",
              "      padding: 0 0 0 0;\n",
              "      width: 32px;\n",
              "    }\n",
              "\n",
              "    .colab-df-convert:hover {\n",
              "      background-color: #E2EBFA;\n",
              "      box-shadow: 0px 1px 2px rgba(60, 64, 67, 0.3), 0px 1px 3px 1px rgba(60, 64, 67, 0.15);\n",
              "      fill: #174EA6;\n",
              "    }\n",
              "\n",
              "    .colab-df-buttons div {\n",
              "      margin-bottom: 4px;\n",
              "    }\n",
              "\n",
              "    [theme=dark] .colab-df-convert {\n",
              "      background-color: #3B4455;\n",
              "      fill: #D2E3FC;\n",
              "    }\n",
              "\n",
              "    [theme=dark] .colab-df-convert:hover {\n",
              "      background-color: #434B5C;\n",
              "      box-shadow: 0px 1px 3px 1px rgba(0, 0, 0, 0.15);\n",
              "      filter: drop-shadow(0px 1px 2px rgba(0, 0, 0, 0.3));\n",
              "      fill: #FFFFFF;\n",
              "    }\n",
              "  </style>\n",
              "\n",
              "    <script>\n",
              "      const buttonEl =\n",
              "        document.querySelector('#df-ddc52c86-b11e-455f-9627-d763f16151b2 button.colab-df-convert');\n",
              "      buttonEl.style.display =\n",
              "        google.colab.kernel.accessAllowed ? 'block' : 'none';\n",
              "\n",
              "      async function convertToInteractive(key) {\n",
              "        const element = document.querySelector('#df-ddc52c86-b11e-455f-9627-d763f16151b2');\n",
              "        const dataTable =\n",
              "          await google.colab.kernel.invokeFunction('convertToInteractive',\n",
              "                                                    [key], {});\n",
              "        if (!dataTable) return;\n",
              "\n",
              "        const docLinkHtml = 'Like what you see? Visit the ' +\n",
              "          '<a target=\"_blank\" href=https://colab.research.google.com/notebooks/data_table.ipynb>data table notebook</a>'\n",
              "          + ' to learn more about interactive tables.';\n",
              "        element.innerHTML = '';\n",
              "        dataTable['output_type'] = 'display_data';\n",
              "        await google.colab.output.renderOutput(dataTable, element);\n",
              "        const docLink = document.createElement('div');\n",
              "        docLink.innerHTML = docLinkHtml;\n",
              "        element.appendChild(docLink);\n",
              "      }\n",
              "    </script>\n",
              "  </div>\n",
              "\n",
              "\n",
              "<div id=\"df-ba966cad-145d-49b3-a5f5-8c835c9c281b\">\n",
              "  <button class=\"colab-df-quickchart\" onclick=\"quickchart('df-ba966cad-145d-49b3-a5f5-8c835c9c281b')\"\n",
              "            title=\"Suggest charts\"\n",
              "            style=\"display:none;\">\n",
              "\n",
              "<svg xmlns=\"http://www.w3.org/2000/svg\" height=\"24px\"viewBox=\"0 0 24 24\"\n",
              "     width=\"24px\">\n",
              "    <g>\n",
              "        <path d=\"M19 3H5c-1.1 0-2 .9-2 2v14c0 1.1.9 2 2 2h14c1.1 0 2-.9 2-2V5c0-1.1-.9-2-2-2zM9 17H7v-7h2v7zm4 0h-2V7h2v10zm4 0h-2v-4h2v4z\"/>\n",
              "    </g>\n",
              "</svg>\n",
              "  </button>\n",
              "\n",
              "<style>\n",
              "  .colab-df-quickchart {\n",
              "      --bg-color: #E8F0FE;\n",
              "      --fill-color: #1967D2;\n",
              "      --hover-bg-color: #E2EBFA;\n",
              "      --hover-fill-color: #174EA6;\n",
              "      --disabled-fill-color: #AAA;\n",
              "      --disabled-bg-color: #DDD;\n",
              "  }\n",
              "\n",
              "  [theme=dark] .colab-df-quickchart {\n",
              "      --bg-color: #3B4455;\n",
              "      --fill-color: #D2E3FC;\n",
              "      --hover-bg-color: #434B5C;\n",
              "      --hover-fill-color: #FFFFFF;\n",
              "      --disabled-bg-color: #3B4455;\n",
              "      --disabled-fill-color: #666;\n",
              "  }\n",
              "\n",
              "  .colab-df-quickchart {\n",
              "    background-color: var(--bg-color);\n",
              "    border: none;\n",
              "    border-radius: 50%;\n",
              "    cursor: pointer;\n",
              "    display: none;\n",
              "    fill: var(--fill-color);\n",
              "    height: 32px;\n",
              "    padding: 0;\n",
              "    width: 32px;\n",
              "  }\n",
              "\n",
              "  .colab-df-quickchart:hover {\n",
              "    background-color: var(--hover-bg-color);\n",
              "    box-shadow: 0 1px 2px rgba(60, 64, 67, 0.3), 0 1px 3px 1px rgba(60, 64, 67, 0.15);\n",
              "    fill: var(--button-hover-fill-color);\n",
              "  }\n",
              "\n",
              "  .colab-df-quickchart-complete:disabled,\n",
              "  .colab-df-quickchart-complete:disabled:hover {\n",
              "    background-color: var(--disabled-bg-color);\n",
              "    fill: var(--disabled-fill-color);\n",
              "    box-shadow: none;\n",
              "  }\n",
              "\n",
              "  .colab-df-spinner {\n",
              "    border: 2px solid var(--fill-color);\n",
              "    border-color: transparent;\n",
              "    border-bottom-color: var(--fill-color);\n",
              "    animation:\n",
              "      spin 1s steps(1) infinite;\n",
              "  }\n",
              "\n",
              "  @keyframes spin {\n",
              "    0% {\n",
              "      border-color: transparent;\n",
              "      border-bottom-color: var(--fill-color);\n",
              "      border-left-color: var(--fill-color);\n",
              "    }\n",
              "    20% {\n",
              "      border-color: transparent;\n",
              "      border-left-color: var(--fill-color);\n",
              "      border-top-color: var(--fill-color);\n",
              "    }\n",
              "    30% {\n",
              "      border-color: transparent;\n",
              "      border-left-color: var(--fill-color);\n",
              "      border-top-color: var(--fill-color);\n",
              "      border-right-color: var(--fill-color);\n",
              "    }\n",
              "    40% {\n",
              "      border-color: transparent;\n",
              "      border-right-color: var(--fill-color);\n",
              "      border-top-color: var(--fill-color);\n",
              "    }\n",
              "    60% {\n",
              "      border-color: transparent;\n",
              "      border-right-color: var(--fill-color);\n",
              "    }\n",
              "    80% {\n",
              "      border-color: transparent;\n",
              "      border-right-color: var(--fill-color);\n",
              "      border-bottom-color: var(--fill-color);\n",
              "    }\n",
              "    90% {\n",
              "      border-color: transparent;\n",
              "      border-bottom-color: var(--fill-color);\n",
              "    }\n",
              "  }\n",
              "</style>\n",
              "\n",
              "  <script>\n",
              "    async function quickchart(key) {\n",
              "      const quickchartButtonEl =\n",
              "        document.querySelector('#' + key + ' button');\n",
              "      quickchartButtonEl.disabled = true;  // To prevent multiple clicks.\n",
              "      quickchartButtonEl.classList.add('colab-df-spinner');\n",
              "      try {\n",
              "        const charts = await google.colab.kernel.invokeFunction(\n",
              "            'suggestCharts', [key], {});\n",
              "      } catch (error) {\n",
              "        console.error('Error during call to suggestCharts:', error);\n",
              "      }\n",
              "      quickchartButtonEl.classList.remove('colab-df-spinner');\n",
              "      quickchartButtonEl.classList.add('colab-df-quickchart-complete');\n",
              "    }\n",
              "    (() => {\n",
              "      let quickchartButtonEl =\n",
              "        document.querySelector('#df-ba966cad-145d-49b3-a5f5-8c835c9c281b button');\n",
              "      quickchartButtonEl.style.display =\n",
              "        google.colab.kernel.accessAllowed ? 'block' : 'none';\n",
              "    })();\n",
              "  </script>\n",
              "</div>\n",
              "\n",
              "    </div>\n",
              "  </div>\n"
            ],
            "application/vnd.google.colaboratory.intrinsic+json": {
              "type": "dataframe",
              "variable_name": "train_df"
            }
          },
          "metadata": {},
          "execution_count": 21
        }
      ]
    },
    {
      "cell_type": "markdown",
      "source": [
        "## **Total Row's and Column's of the Dataset**"
      ],
      "metadata": {
        "id": "d_KX6sd7KmJg"
      },
      "id": "d_KX6sd7KmJg"
    },
    {
      "cell_type": "code",
      "source": [
        "train_df.shape"
      ],
      "metadata": {
        "colab": {
          "base_uri": "https://localhost:8080/"
        },
        "id": "qNIbKFgQJANP",
        "outputId": "54fc130f-c675-4e8a-f883-6af2df08204b"
      },
      "id": "qNIbKFgQJANP",
      "execution_count": null,
      "outputs": [
        {
          "output_type": "execute_result",
          "data": {
            "text/plain": [
              "(125973, 42)"
            ]
          },
          "metadata": {},
          "execution_count": 22
        }
      ]
    },
    {
      "cell_type": "markdown",
      "source": [
        "##**Verifying Null values and their data types**"
      ],
      "metadata": {
        "id": "6Fv8Aa8ZKqkw"
      },
      "id": "6Fv8Aa8ZKqkw"
    },
    {
      "cell_type": "code",
      "source": [
        "train_df.info()"
      ],
      "metadata": {
        "colab": {
          "base_uri": "https://localhost:8080/"
        },
        "id": "ylE5sYXNI_uB",
        "outputId": "0f080e69-0275-400f-886c-5332230cb8fa"
      },
      "id": "ylE5sYXNI_uB",
      "execution_count": null,
      "outputs": [
        {
          "output_type": "stream",
          "name": "stdout",
          "text": [
            "<class 'pandas.core.frame.DataFrame'>\n",
            "RangeIndex: 125973 entries, 0 to 125972\n",
            "Data columns (total 42 columns):\n",
            " #   Column                       Non-Null Count   Dtype  \n",
            "---  ------                       --------------   -----  \n",
            " 0   duration                     125973 non-null  int64  \n",
            " 1   protocol_type                125973 non-null  object \n",
            " 2   service                      125973 non-null  object \n",
            " 3   flag                         125973 non-null  object \n",
            " 4   src_bytes                    125973 non-null  int64  \n",
            " 5   dst_bytes                    125973 non-null  int64  \n",
            " 6   land                         125973 non-null  int64  \n",
            " 7   wrong_fragment               125973 non-null  int64  \n",
            " 8   urgent                       125973 non-null  int64  \n",
            " 9   hot                          125973 non-null  int64  \n",
            " 10  num_failed_logins            125973 non-null  int64  \n",
            " 11  logged_in                    125973 non-null  int64  \n",
            " 12  num_compromised              125973 non-null  int64  \n",
            " 13  root_shell                   125973 non-null  int64  \n",
            " 14  su_attempted                 125973 non-null  int64  \n",
            " 15  num_root                     125973 non-null  int64  \n",
            " 16  num_file_creations           125973 non-null  int64  \n",
            " 17  num_shells                   125973 non-null  int64  \n",
            " 18  num_access_files             125973 non-null  int64  \n",
            " 19  num_outbound_cmds            125973 non-null  int64  \n",
            " 20  is_host_login                125973 non-null  int64  \n",
            " 21  is_guest_login               125973 non-null  int64  \n",
            " 22  count                        125973 non-null  int64  \n",
            " 23  srv_count                    125973 non-null  int64  \n",
            " 24  serror_rate                  125973 non-null  float64\n",
            " 25  srv_serror_rate              125973 non-null  float64\n",
            " 26  rerror_rate                  125973 non-null  float64\n",
            " 27  srv_rerror_rate              125973 non-null  float64\n",
            " 28  same_srv_rate                125973 non-null  float64\n",
            " 29  diff_srv_rate                125973 non-null  float64\n",
            " 30  srv_diff_host_rate           125973 non-null  float64\n",
            " 31  dst_host_count               125973 non-null  int64  \n",
            " 32  dst_host_srv_count           125973 non-null  int64  \n",
            " 33  dst_host_same_srv_rate       125973 non-null  float64\n",
            " 34  dst_host_diff_srv_rate       125973 non-null  float64\n",
            " 35  dst_host_same_src_port_rate  125973 non-null  float64\n",
            " 36  dst_host_srv_diff_host_rate  125973 non-null  float64\n",
            " 37  dst_host_serror_rate         125973 non-null  float64\n",
            " 38  dst_host_srv_serror_rate     125973 non-null  float64\n",
            " 39  dst_host_rerror_rate         125973 non-null  float64\n",
            " 40  dst_host_srv_rerror_rate     125973 non-null  float64\n",
            " 41  labels                       125973 non-null  object \n",
            "dtypes: float64(15), int64(23), object(4)\n",
            "memory usage: 40.4+ MB\n"
          ]
        }
      ]
    },
    {
      "cell_type": "code",
      "source": [
        "train_df.duplicated().sum()"
      ],
      "metadata": {
        "colab": {
          "base_uri": "https://localhost:8080/"
        },
        "id": "VzGEdCi1LpCp",
        "outputId": "718a9091-275c-4cdf-87e0-d018257d75dd"
      },
      "id": "VzGEdCi1LpCp",
      "execution_count": null,
      "outputs": [
        {
          "output_type": "execute_result",
          "data": {
            "text/plain": [
              "0"
            ]
          },
          "metadata": {},
          "execution_count": 39
        }
      ]
    },
    {
      "cell_type": "markdown",
      "source": [
        "\n",
        "\n",
        "---\n",
        "\n"
      ],
      "metadata": {
        "id": "R_Kv443BKzbM"
      },
      "id": "R_Kv443BKzbM"
    },
    {
      "cell_type": "markdown",
      "source": [
        "# **Label Encoding with -1 for Unseen Values**"
      ],
      "metadata": {
        "id": "IBFfWiRotGY-"
      },
      "id": "IBFfWiRotGY-"
    },
    {
      "cell_type": "code",
      "source": [
        "encoders={}\n",
        "\n",
        "for col in ['protocol_type', 'service', 'flag', 'labels']:\n",
        "    encoder = LabelEncoder()\n",
        "    train_df[col] = encoder.fit_transform(train_df[col])\n",
        "    test_df[col] = test_df[col].apply(\n",
        "        lambda value: encoder.transform(\n",
        "        [value])[0] if value in encoder.classes_ else -1)\n",
        "    encoders[col] = encoder\n"
      ],
      "metadata": {
        "id": "y0iPGVAahmYu"
      },
      "id": "y0iPGVAahmYu",
      "execution_count": null,
      "outputs": []
    },
    {
      "cell_type": "markdown",
      "source": [
        "# **Prepare Data**"
      ],
      "metadata": {
        "id": "VFymhw2otKWa"
      },
      "id": "VFymhw2otKWa"
    },
    {
      "cell_type": "code",
      "source": [
        "X_train = train_df.drop(columns='labels')\n",
        "y_train = train_df['labels']\n",
        "\n",
        "X_test = test_df.drop(columns = 'labels')\n",
        "y_test = test_df['labels']"
      ],
      "metadata": {
        "id": "BNSaiQochnCl"
      },
      "id": "BNSaiQochnCl",
      "execution_count": null,
      "outputs": []
    },
    {
      "cell_type": "markdown",
      "source": [
        "# **Scailing Data**"
      ],
      "metadata": {
        "id": "ZFXGn1r4L4K_"
      },
      "id": "ZFXGn1r4L4K_"
    },
    {
      "cell_type": "code",
      "source": [
        "scaler = StandardScaler()\n",
        "X_train = scaler.fit_transform(X_train)\n",
        "X_test = scaler.transform(X_test)"
      ],
      "metadata": {
        "id": "lSiEUHZQLxlA"
      },
      "id": "lSiEUHZQLxlA",
      "execution_count": null,
      "outputs": []
    },
    {
      "cell_type": "markdown",
      "source": [
        "# **Decision Tree - Grid Search CV**"
      ],
      "metadata": {
        "id": "h5rnHuqDtMrB"
      },
      "id": "h5rnHuqDtMrB"
    },
    {
      "cell_type": "code",
      "source": [
        "# Decision Tree Grid Search CV\n",
        "param_grid_dt = {'max_depth': [3, 5, 7], 'min_samples_split': [2, 5, 10]}\n",
        "grid_search_dt = GridSearchCV(DecisionTreeClassifier(random_state=42), param_grid_dt, cv=3, scoring='accuracy', verbose = 0)\n",
        "grid_search_dt.fit(X_train, y_train)\n",
        "\n",
        "# Print best parameters\n",
        "print(\"Decision Tree Results:\")\n",
        "print(f\"  Best Parameters: {grid_search_dt.best_params_}\")\n",
        "\n",
        "dt_best_model = grid_search_dt.best_estimator_\n",
        "y_pred_dt = dt_best_model.predict(X_test)\n",
        "\n",
        "# Evaluate\n",
        "accuracy_dt = accuracy_score(y_test, y_pred_dt)\n",
        "precision_dt = precision_score(y_test, y_pred_dt, zero_division=0, average = 'weighted')\n",
        "recall_dt = recall_score(y_test, y_pred_dt, zero_division=0, average='weighted')\n",
        "f1_dt = f1_score(y_test, y_pred_dt, zero_division=0, average = 'weighted')\n",
        "\n",
        "# Print evaluation metrics\n",
        "print(f\"  Accuracy: {accuracy_dt:.4f}\")\n",
        "print(f\"  Precision: {precision_dt:.4f}\")\n",
        "print(f\"  Recall: {recall_dt:.4f}\")\n",
        "print(f\"  F1 Score: {f1_dt:.4f}\")\n",
        "\n",
        "# Plotting\n",
        "metrics = {'Accuracy': accuracy_dt, 'Precision': precision_dt, 'Recall': recall_dt, 'F1-Score': f1_dt}\n",
        "plt.figure(figsize=(8, 5))\n",
        "plt.bar(metrics.keys(), metrics.values())\n",
        "plt.title('Decision Tree Performance')\n",
        "plt.ylabel('Score')\n",
        "plt.ylim(0,1)\n",
        "plt.show()"
      ],
      "metadata": {
        "colab": {
          "base_uri": "https://localhost:8080/",
          "height": 607
        },
        "id": "wK7V4Rjhhp78",
        "outputId": "73f3b168-24ba-4917-ce91-8a4b4b66daea"
      },
      "id": "wK7V4Rjhhp78",
      "execution_count": null,
      "outputs": [
        {
          "output_type": "stream",
          "name": "stderr",
          "text": [
            "/usr/local/lib/python3.11/dist-packages/sklearn/model_selection/_split.py:805: UserWarning: The least populated class in y has only 1 members, which is less than n_splits=3.\n",
            "  warnings.warn(\n"
          ]
        },
        {
          "output_type": "stream",
          "name": "stdout",
          "text": [
            "Decision Tree Results:\n",
            "  Best Parameters: {'max_depth': 7, 'min_samples_split': 2}\n",
            "  Accuracy: 0.9038\n",
            "  Precision: 0.8385\n",
            "  Recall: 0.9038\n",
            "  F1 Score: 0.8669\n"
          ]
        },
        {
          "output_type": "display_data",
          "data": {
            "text/plain": [
              "<Figure size 800x500 with 1 Axes>"
            ],
            "image/png": "[encoded data removed]"
          },
          "metadata": {}
        }
      ]
    },
    {
      "cell_type": "markdown",
      "source": [
        "\n",
        "\n",
        "---\n",
        "\n"
      ],
      "metadata": {
        "id": "xruC-JJNF0r2"
      },
      "id": "xruC-JJNF0r2"
    },
    {
      "cell_type": "markdown",
      "source": [
        "# **Random Forest - Grid Search CV**"
      ],
      "metadata": {
        "id": "j92WNsXztPzs"
      },
      "id": "j92WNsXztPzs"
    },
    {
      "cell_type": "code",
      "source": [
        "# Random Forest Grid Search CV\n",
        "param_grid_rf = {'n_estimators': [50, 100, 200], 'max_depth': [5, 10, 15]}\n",
        "grid_search_rf = GridSearchCV(RandomForestClassifier(random_state=42), param_grid_rf, cv=3, scoring='accuracy', verbose = 0)\n",
        "grid_search_rf.fit(X_train, y_train)\n",
        "\n",
        "# Print best parameters\n",
        "print(\"\\nRandom Forest Results:\")\n",
        "print(f\"  Best Parameters: {grid_search_rf.best_params_}\")\n",
        "\n",
        "rf_best_model = grid_search_rf.best_estimator_\n",
        "y_pred_rf = rf_best_model.predict(X_test)\n",
        "\n",
        "# Evaluate\n",
        "accuracy_rf = accuracy_score(y_test, y_pred_rf)\n",
        "precision_rf = precision_score(y_test, y_pred_rf, zero_division=0, average = 'weighted')\n",
        "recall_rf = recall_score(y_test, y_pred_rf, zero_division=0, average='weighted')\n",
        "f1_rf = f1_score(y_test, y_pred_rf, zero_division=0, average = 'weighted')\n",
        "\n",
        "\n",
        "# Print evaluation metrics\n",
        "print(f\"  Accuracy: {accuracy_rf:.4f}\")\n",
        "print(f\"  Precision: {precision_rf:.4f}\")\n",
        "print(f\"  Recall: {recall_rf:.4f}\")\n",
        "print(f\"  F1 Score: {f1_rf:.4f}\")\n",
        "\n",
        "\n",
        "# Plotting\n",
        "metrics = {'Accuracy': accuracy_rf, 'Precision': precision_rf, 'Recall': recall_rf, 'F1-Score': f1_rf}\n",
        "plt.figure(figsize=(8, 5))\n",
        "plt.bar(metrics.keys(), metrics.values())\n",
        "plt.title('Random Forest Performance')\n",
        "plt.ylabel('Score')\n",
        "plt.ylim(0,1)\n",
        "plt.show()"
      ],
      "metadata": {
        "colab": {
          "base_uri": "https://localhost:8080/",
          "height": 624
        },
        "id": "wgD-Cz3qjP4e",
        "outputId": "bd2f7f6e-9291-451f-bb76-bbdf73cda2a4"
      },
      "id": "wgD-Cz3qjP4e",
      "execution_count": null,
      "outputs": [
        {
          "output_type": "stream",
          "name": "stderr",
          "text": [
            "/usr/local/lib/python3.11/dist-packages/sklearn/model_selection/_split.py:805: UserWarning: The least populated class in y has only 1 members, which is less than n_splits=3.\n",
            "  warnings.warn(\n"
          ]
        },
        {
          "output_type": "stream",
          "name": "stdout",
          "text": [
            "\n",
            "Random Forest Results:\n",
            "  Best Parameters: {'max_depth': 15, 'n_estimators': 50}\n",
            "  Accuracy: 0.9126\n",
            "  Precision: 0.8708\n",
            "  Recall: 0.9126\n",
            "  F1 Score: 0.8746\n"
          ]
        },
        {
          "output_type": "display_data",
          "data": {
            "text/plain": [
              "<Figure size 800x500 with 1 Axes>"
            ],
            "image/png": "[encoded data removed]"
          },
          "metadata": {}
        }
      ]
    },
    {
      "cell_type": "markdown",
      "source": [
        "\n",
        "\n",
        "---\n",
        "\n"
      ],
      "metadata": {
        "id": "-hmok3OPFztj"
      },
      "id": "-hmok3OPFztj"
    },
    {
      "cell_type": "markdown",
      "source": [
        "# **KNN - Grid Search CV**"
      ],
      "metadata": {
        "id": "oOrBgrRstSDn"
      },
      "id": "oOrBgrRstSDn"
    },
    {
      "cell_type": "code",
      "source": [
        "# KNN Grid Search CV\n",
        "param_grid_knn = {'n_neighbors': [3, 5, 7], 'weights': ['uniform', 'distance']}\n",
        "grid_search_knn = GridSearchCV(KNeighborsClassifier(), param_grid_knn, cv=3, scoring='accuracy', verbose = 0)\n",
        "grid_search_knn.fit(X_train, y_train)\n",
        "\n",
        "# Print best parameters\n",
        "print(\"\\nKNN Results:\")\n",
        "print(f\"  Best Parameters: {grid_search_knn.best_params_}\")\n",
        "\n",
        "knn_best_model = grid_search_knn.best_estimator_\n",
        "y_pred_knn = knn_best_model.predict(X_test)\n",
        "\n",
        "# Evaluate\n",
        "accuracy_knn = accuracy_score(y_test, y_pred_knn)\n",
        "precision_knn = precision_score(y_test, y_pred_knn, zero_division=0, average = 'weighted')\n",
        "recall_knn = recall_score(y_test, y_pred_knn, zero_division=0, average='weighted')\n",
        "f1_knn = f1_score(y_test, y_pred_knn, zero_division=0, average = 'weighted')\n",
        "\n",
        "\n",
        "# Print evaluation metrics\n",
        "print(f\"  Accuracy: {accuracy_knn:.4f}\")\n",
        "print(f\"  Precision: {precision_knn:.4f}\")\n",
        "print(f\"  Recall: {recall_knn:.4f}\")\n",
        "print(f\"  F1 Score: {f1_knn:.4f}\")\n",
        "\n",
        "# Plotting\n",
        "metrics = {'Accuracy': accuracy_knn, 'Precision': precision_knn, 'Recall': recall_knn, 'F1-Score': f1_knn}\n",
        "plt.figure(figsize=(8, 5))\n",
        "plt.bar(metrics.keys(), metrics.values())\n",
        "plt.title('KNN Performance')\n",
        "plt.ylabel('Score')\n",
        "plt.ylim(0,1)\n",
        "plt.show()"
      ],
      "metadata": {
        "colab": {
          "base_uri": "https://localhost:8080/",
          "height": 624
        },
        "id": "8JUmawAHk_eJ",
        "outputId": "37e3324c-7a9f-464f-cc39-9e17410a6873"
      },
      "id": "8JUmawAHk_eJ",
      "execution_count": null,
      "outputs": [
        {
          "output_type": "stream",
          "name": "stderr",
          "text": [
            "/usr/local/lib/python3.11/dist-packages/sklearn/model_selection/_split.py:805: UserWarning: The least populated class in y has only 2 members, which is less than n_splits=3.\n",
            "  warnings.warn(\n"
          ]
        },
        {
          "output_type": "stream",
          "name": "stdout",
          "text": [
            "\n",
            "KNN Results:\n",
            "  Best Parameters: {'n_neighbors': 3, 'weights': 'distance'}\n",
            "  Accuracy: 0.9080\n",
            "  Precision: 0.8666\n",
            "  Recall: 0.9080\n",
            "  F1 Score: 0.8717\n"
          ]
        },
        {
          "output_type": "display_data",
          "data": {
            "text/plain": [
              "<Figure size 800x500 with 1 Axes>"
            ],
            "image/png": "[encoded data removed]"
          },
          "metadata": {}
        }
      ]
    },
    {
      "cell_type": "markdown",
      "source": [
        "\n",
        "\n",
        "---\n",
        "\n"
      ],
      "metadata": {
        "id": "gsqX9W6GFyrb"
      },
      "id": "gsqX9W6GFyrb"
    },
    {
      "cell_type": "markdown",
      "source": [
        "# **XGBoost**"
      ],
      "metadata": {
        "id": "w7Fh7X0rtVzX"
      },
      "id": "w7Fh7X0rtVzX"
    },
    {
      "cell_type": "code",
      "source": [
        "\n",
        "#XGBoost\n",
        "xgb_model = xgb.XGBClassifier(max_depth= 5, n_estimators= 100, learning_rate = 0.1, random_state= 42, use_label_encoder= False, eval_metric= 'logloss')\n",
        "xgb_model.fit(X_train, y_train)\n",
        "\n",
        "# Make predictions\n",
        "y_pred_xgb = xgb_model.predict(X_test)\n",
        "\n",
        "# Evaluate\n",
        "accuracy_xgb = accuracy_score(y_test, y_pred_xgb)\n",
        "precision_xgb = precision_score(y_test, y_pred_xgb, zero_division=0, average = 'weighted')\n",
        "recall_xgb = recall_score(y_test, y_pred_xgb, zero_division=0, average='weighted')\n",
        "f1_xgb = f1_score(y_test, y_pred_xgb, zero_division=0, average = 'weighted')\n",
        "\n",
        "# Print evaluation metrics\n",
        "print(\"XGBoost Results (No Grid Search):\")\n",
        "print(f\"  Accuracy: {accuracy_xgb:.4f}\")\n",
        "print(f\"  Precision: {precision_xgb:.4f}\")\n",
        "print(f\"  Recall: {recall_xgb:.4f}\")\n",
        "print(f\"  F1 Score: {f1_xgb:.4f}\")\n",
        "\n",
        "# Plotting\n",
        "metrics = {'Accuracy': accuracy_xgb, 'Precision': precision_xgb, 'Recall': recall_xgb, 'F1-Score': f1_xgb}\n",
        "plt.figure(figsize=(8, 5))\n",
        "plt.bar(metrics.keys(), metrics.values())\n",
        "plt.title('XGBoost Performance (No Grid Search)')\n",
        "plt.ylabel('Score')\n",
        "plt.ylim(0,1)\n",
        "plt.show()"
      ],
      "metadata": {
        "colab": {
          "base_uri": "https://localhost:8080/",
          "height": 624
        },
        "id": "9d6owtWEpcxr",
        "outputId": "0d7287af-696a-4a42-a94d-999ceeb259c9"
      },
      "id": "9d6owtWEpcxr",
      "execution_count": null,
      "outputs": [
        {
          "output_type": "stream",
          "name": "stderr",
          "text": [
            "/usr/local/lib/python3.11/dist-packages/xgboost/core.py:158: UserWarning: [23:42:43] WARNING: /workspace/src/learner.cc:740: \n",
            "Parameters: { \"use_label_encoder\" } are not used.\n",
            "\n",
            "  warnings.warn(smsg, UserWarning)\n"
          ]
        },
        {
          "output_type": "stream",
          "name": "stdout",
          "text": [
            "XGBoost Results (No Grid Search):\n",
            "  Accuracy: 0.9131\n",
            "  Precision: 0.8732\n",
            "  Recall: 0.9131\n",
            "  F1 Score: 0.8759\n"
          ]
        },
        {
          "output_type": "display_data",
          "data": {
            "text/plain": [
              "<Figure size 800x500 with 1 Axes>"
            ],
            "image/png": "[encoded data removed]"
          },
          "metadata": {}
        }
      ]
    },
    {
      "cell_type": "markdown",
      "source": [
        "\n",
        "\n",
        "---\n",
        "\n"
      ],
      "metadata": {
        "id": "VjFbRXlfFxzt"
      },
      "id": "VjFbRXlfFxzt"
    },
    {
      "cell_type": "markdown",
      "source": [
        "# **SVM - Grid Search CV**"
      ],
      "metadata": {
        "id": "Ru48PcHatZLz"
      },
      "id": "Ru48PcHatZLz"
    },
    {
      "cell_type": "code",
      "source": [
        "\n",
        "# SVM Grid Search CV\n",
        "param_grid_svm = {'C': [0.1, 1, 10], 'kernel': ['linear', 'rbf']}\n",
        "grid_search_svm = GridSearchCV(SVC(random_state=42), param_grid_svm, cv=3, scoring='accuracy', verbose = 0)\n",
        "grid_search_svm.fit(X_train, y_train)\n",
        "\n",
        "# Print best parameters\n",
        "print(\"\\nSVM Results:\")\n",
        "print(f\"  Best Parameters: {grid_search_svm.best_params_}\")\n",
        "\n",
        "svm_best_model = grid_search_svm.best_estimator_\n",
        "y_pred_svm = svm_best_model.predict(X_test)\n",
        "\n",
        "# Evaluate\n",
        "accuracy_svm = accuracy_score(y_test, y_pred_svm)\n",
        "precision_svm = precision_score(y_test, y_pred_svm, zero_division=0, average = 'weighted')\n",
        "recall_svm = recall_score(y_test, y_pred_svm, zero_division=0, average='weighted')\n",
        "f1_svm = f1_score(y_test, y_pred_svm, zero_division=0, average = 'weighted')\n",
        "\n",
        "# Print evaluation metrics\n",
        "print(f\"  Accuracy: {accuracy_svm:.4f}\")\n",
        "print(f\"  Precision: {precision_svm:.4f}\")\n",
        "print(f\"  Recall: {recall_svm:.4f}\")\n",
        "print(f\"  F1 Score: {f1_svm:.4f}\")\n",
        "\n",
        "\n",
        "# Plotting\n",
        "metrics = {'Accuracy': accuracy_svm, 'Precision': precision_svm, 'Recall': recall_svm, 'F1-Score': f1_svm}\n",
        "plt.figure(figsize=(8, 5))\n",
        "plt.bar(metrics.keys(), metrics.values())\n",
        "plt.title('SVM Performance')\n",
        "plt.ylabel('Score')\n",
        "plt.ylim(0,1)\n",
        "plt.show()"
      ],
      "metadata": {
        "colab": {
          "base_uri": "https://localhost:8080/",
          "height": 624
        },
        "id": "HrPlKcGStbcP",
        "outputId": "b049adde-0780-4a93-f569-59a124d8dda5"
      },
      "id": "HrPlKcGStbcP",
      "execution_count": null,
      "outputs": [
        {
          "output_type": "stream",
          "name": "stderr",
          "text": [
            "/usr/local/lib/python3.11/dist-packages/sklearn/model_selection/_split.py:805: UserWarning: The least populated class in y has only 2 members, which is less than n_splits=3.\n",
            "  warnings.warn(\n"
          ]
        },
        {
          "output_type": "stream",
          "name": "stdout",
          "text": [
            "\n",
            "SVM Results:\n",
            "  Best Parameters: {'C': 10, 'kernel': 'rbf'}\n",
            "  Accuracy: 0.9083\n",
            "  Precision: 0.8689\n",
            "  Recall: 0.9083\n",
            "  F1 Score: 0.8715\n"
          ]
        },
        {
          "output_type": "display_data",
          "data": {
            "text/plain": [
              "<Figure size 800x500 with 1 Axes>"
            ],
            "image/png": "[encoded data removed]"
          },
          "metadata": {}
        }
      ]
    },
    {
      "cell_type": "markdown",
      "source": [
        "\n",
        "\n",
        "---\n",
        "\n"
      ],
      "metadata": {
        "id": "TqAk89c8Fwr_"
      },
      "id": "TqAk89c8Fwr_"
    },
    {
      "cell_type": "markdown",
      "source": [
        "# **Logistic Regression**"
      ],
      "metadata": {
        "id": "auIECpPFtdry"
      },
      "id": "auIECpPFtdry"
    },
    {
      "cell_type": "code",
      "source": [
        "\n",
        "# Create and fit the model\n",
        "logistic_regression_model = LogisticRegression(random_state=42, solver='liblinear')\n",
        "logistic_regression_model.fit(X_train, y_train)\n",
        "\n",
        "# Make predictions\n",
        "y_pred_lr = logistic_regression_model.predict(X_test)\n",
        "\n",
        "# Evaluate the model\n",
        "accuracy_lr = accuracy_score(y_test, y_pred_lr)\n",
        "precision_lr = precision_score(y_test, y_pred_lr, zero_division=0, average = 'weighted')\n",
        "recall_lr = recall_score(y_test, y_pred_lr, zero_division=0, average='weighted')\n",
        "f1_lr = f1_score(y_test, y_pred_lr, zero_division=0, average = 'weighted')\n",
        "\n",
        "# Print evaluation metrics\n",
        "print(\"\\nLogistic Regression Results:\")\n",
        "print(f\"  Accuracy: {accuracy_lr:.4f}\")\n",
        "print(f\"  Precision: {precision_lr:.4f}\")\n",
        "print(f\"  Recall: {recall_lr:.4f}\")\n",
        "print(f\"  F1 Score: {f1_lr:.4f}\")\n",
        "\n",
        "# Plotting\n",
        "metrics = {'Accuracy': accuracy_lr, 'Precision': precision_lr, 'Recall': recall_lr, 'F1-Score': f1_lr}\n",
        "plt.figure(figsize=(8, 5))\n",
        "plt.bar(metrics.keys(), metrics.values())\n",
        "plt.title('Logistic Regression Performance')\n",
        "plt.ylabel('Score')\n",
        "plt.ylim(0,1)\n",
        "plt.show()"
      ],
      "metadata": {
        "colab": {
          "base_uri": "https://localhost:8080/",
          "height": 572
        },
        "id": "MhM6rmcOpjBl",
        "outputId": "a3f04682-43a2-469b-aaad-3aeab9cfdf8a"
      },
      "id": "MhM6rmcOpjBl",
      "execution_count": null,
      "outputs": [
        {
          "output_type": "stream",
          "name": "stdout",
          "text": [
            "\n",
            "Logistic Regression Results:\n",
            "  Accuracy: 0.8932\n",
            "  Precision: 0.8383\n",
            "  Recall: 0.8932\n",
            "  F1 Score: 0.8551\n"
          ]
        },
        {
          "output_type": "display_data",
          "data": {
            "text/plain": [
              "<Figure size 800x500 with 1 Axes>"
            ],
            "image/png": "[encoded data removed]"
          },
          "metadata": {}
        }
      ]
    },
    {
      "cell_type": "markdown",
      "source": [
        "\n",
        "\n",
        "---\n",
        "\n"
      ],
      "metadata": {
        "id": "Hjw5X390FuzL"
      },
      "id": "Hjw5X390FuzL"
    },
    {
      "cell_type": "markdown",
      "source": [
        "# **Testing Models With Sample Input (Safe and Attack)**"
      ],
      "metadata": {
        "id": "lj5ai_7zFmOU"
      },
      "id": "lj5ai_7zFmOU"
    },
    {
      "cell_type": "code",
      "source": [
        "test_input_normal = {\n",
        "    'duration': [0],\n",
        "    'protocol_type': [1],\n",
        "    'service': [20],\n",
        "    'flag': [9],\n",
        "    'src_bytes': [491],\n",
        "    'dst_bytes': [0],\n",
        "    'land': [0],\n",
        "    'wrong_fragment': [0],\n",
        "    'urgent': [0],\n",
        "    'hot': [0],\n",
        "    'num_failed_logins': [0],\n",
        "    'logged_in': [0],\n",
        "    'num_compromised': [0],\n",
        "    'root_shell': [0],\n",
        "    'su_attempted': [0],\n",
        "    'num_root': [0],\n",
        "    'num_file_creations': [0],\n",
        "    'num_shells': [0],\n",
        "    'num_access_files': [0],\n",
        "    'num_outbound_cmds': [0],\n",
        "    'is_host_login': [0],\n",
        "    'is_guest_login': [0],\n",
        "    'count': [1],\n",
        "    'srv_count': [1],\n",
        "    'serror_rate': [0.00],\n",
        "    'srv_serror_rate': [0.00],\n",
        "    'rerror_rate': [0.00],\n",
        "    'srv_rerror_rate': [0.00],\n",
        "    'same_srv_rate': [0.17],\n",
        "    'diff_srv_rate': [0.03],\n",
        "    'srv_diff_host_rate': [0.00],\n",
        "    'dst_host_count': [25],\n",
        "    'dst_host_srv_count': [25],\n",
        "    'dst_host_same_srv_rate': [0.17],\n",
        "    'dst_host_diff_srv_rate': [0.03],\n",
        "    'dst_host_same_src_port_rate': [0.17],\n",
        "    'dst_host_srv_diff_host_rate': [0.00],\n",
        "    'dst_host_serror_rate': [0.00],\n",
        "    'dst_host_srv_serror_rate': [0.00],\n",
        "    'dst_host_rerror_rate': [0.05],\n",
        "    'dst_host_srv_rerror_rate': [0.00]\n",
        "\n",
        "\n",
        "}\n",
        "test_input_normal_df = pd.DataFrame(test_input_normal)\n",
        "test_input_normal_scaled = scaler.transform(test_input_normal_df)\n",
        "\n",
        "\n",
        "test_input_attack = {\n",
        "    'duration': [0],\n",
        "    'protocol_type': [1],\n",
        "    'service': [19],\n",
        "    'flag': [4],\n",
        "    'src_bytes': [0],\n",
        "    'dst_bytes': [0],\n",
        "    'land': [0],\n",
        "    'wrong_fragment': [0],\n",
        "    'urgent': [0],\n",
        "    'hot': [0],\n",
        "    'num_failed_logins': [0],\n",
        "    'logged_in': [0],\n",
        "    'num_compromised': [0],\n",
        "    'root_shell': [0],\n",
        "    'su_attempted': [0],\n",
        "    'num_root': [0],\n",
        "    'num_file_creations': [0],\n",
        "    'num_shells': [0],\n",
        "    'num_access_files': [0],\n",
        "    'num_outbound_cmds': [0],\n",
        "    'is_host_login': [0],\n",
        "    'is_guest_login': [0],\n",
        "    'count': [121],\n",
        "    'srv_count': [19],\n",
        "    'serror_rate': [0.00],\n",
        "    'srv_serror_rate': [0.00],\n",
        "    'rerror_rate': [1.00],\n",
        "    'srv_rerror_rate': [1.00],\n",
        "    'same_srv_rate': [0.16],\n",
        "    'diff_srv_rate': [0.06],\n",
        "    'srv_diff_host_rate': [0.00],\n",
        "    'dst_host_count': [255],\n",
        "    'dst_host_srv_count': [19],\n",
        "    'dst_host_same_srv_rate': [0.07],\n",
        "    'dst_host_diff_srv_rate': [0.07],\n",
        "    'dst_host_same_src_port_rate': [0.00],\n",
        "    'dst_host_srv_diff_host_rate': [0.00],\n",
        "    'dst_host_serror_rate': [0.00],\n",
        "    'dst_host_srv_serror_rate': [0.00],\n",
        "    'dst_host_rerror_rate': [1.00],\n",
        "    'dst_host_srv_rerror_rate': [1.00]\n",
        "}\n",
        "\n",
        "\n",
        "# Create DataFrame from test input\n",
        "test_input_df = pd.DataFrame(test_input_attack)\n",
        "\n",
        "# Scale the test input with the same scaler\n",
        "test_input_attack_scaled = scaler.transform(test_input_df)\n",
        "\n"
      ],
      "metadata": {
        "id": "L6OQMLnb7BGg"
      },
      "id": "L6OQMLnb7BGg",
      "execution_count": null,
      "outputs": []
    },
    {
      "cell_type": "markdown",
      "source": [
        "\n",
        "\n",
        "---\n",
        "\n"
      ],
      "metadata": {
        "id": "CNcnztY6F8LC"
      },
      "id": "CNcnztY6F8LC"
    },
    {
      "cell_type": "markdown",
      "source": [
        "# **For Decision Tree Model**"
      ],
      "metadata": {
        "id": "vxZjEvwZF_4i"
      },
      "id": "vxZjEvwZF_4i"
    },
    {
      "cell_type": "markdown",
      "source": [
        "## **Testing DT for Safe Input (Normal)**"
      ],
      "metadata": {
        "id": "v8sdlFSREXUg"
      },
      "id": "v8sdlFSREXUg"
    },
    {
      "cell_type": "code",
      "source": [
        "\n",
        "prediction_normal = dt_best_model.predict(test_input_normal_scaled)\n",
        "\n",
        "\n",
        "#Decode and Print Predictions\n",
        "label_encoder = encoders['labels']\n",
        "decoded_prediction_normal = label_encoder.inverse_transform(prediction_normal)\n",
        "\n",
        "\n",
        "print(f\"Prediction for Normal Test Input Using DT: {decoded_prediction_normal[0]}\")"
      ],
      "metadata": {
        "colab": {
          "base_uri": "https://localhost:8080/"
        },
        "id": "PgTK-RXyDAQy",
        "outputId": "f73e5333-f776-4fe6-f863-f534f439c49d"
      },
      "id": "PgTK-RXyDAQy",
      "execution_count": null,
      "outputs": [
        {
          "output_type": "stream",
          "name": "stdout",
          "text": [
            "Prediction for Normal Test Input Using DT: normal\n"
          ]
        }
      ]
    },
    {
      "cell_type": "markdown",
      "source": [
        "## **Testing DT for Attack Input (Neptune)**"
      ],
      "metadata": {
        "id": "gwQJTiuhEUOJ"
      },
      "id": "gwQJTiuhEUOJ"
    },
    {
      "cell_type": "code",
      "source": [
        "\n",
        "prediction_attack = dt_best_model.predict(test_input_attack_scaled)\n",
        "\n",
        "label_encoder = encoders['labels']\n",
        "\n",
        "decoded_prediction_attack = label_encoder.inverse_transform(prediction_attack)\n",
        "print(f\"\\nPrediction for Attack Test Input Using DT: {decoded_prediction_attack[0]}\")\n"
      ],
      "metadata": {
        "colab": {
          "base_uri": "https://localhost:8080/"
        },
        "id": "zW0iK65NEQhr",
        "outputId": "f77de245-b029-447a-e155-32a4b458cecb"
      },
      "id": "zW0iK65NEQhr",
      "execution_count": null,
      "outputs": [
        {
          "output_type": "stream",
          "name": "stdout",
          "text": [
            "\n",
            "Prediction for Attack Test Input Using DT: neptune\n"
          ]
        }
      ]
    },
    {
      "cell_type": "markdown",
      "source": [
        "\n",
        "\n",
        "---\n",
        "\n"
      ],
      "metadata": {
        "id": "P5dXqdmHF9NK"
      },
      "id": "P5dXqdmHF9NK"
    },
    {
      "cell_type": "markdown",
      "source": [
        "# **Now for SVM Model**"
      ],
      "metadata": {
        "id": "Gx3GC5_oGgYj"
      },
      "id": "Gx3GC5_oGgYj"
    },
    {
      "cell_type": "markdown",
      "source": [
        "## **Testing SVM for Safe Input (Normal)**"
      ],
      "metadata": {
        "id": "rsxoYXqkDHlZ"
      },
      "id": "rsxoYXqkDHlZ"
    },
    {
      "cell_type": "code",
      "source": [
        "\n",
        "prediction_normal = svm_best_model.predict(test_input_normal_scaled)\n",
        "\n",
        "\n",
        "# Decode and Print Predictions\n",
        "label_encoder = encoders['labels']\n",
        "decoded_prediction_normal = label_encoder.inverse_transform(prediction_normal)\n",
        "\n",
        "\n",
        "print(f\"Prediction for Normal Test Input Using SVM: {decoded_prediction_normal[0]}\")"
      ],
      "metadata": {
        "colab": {
          "base_uri": "https://localhost:8080/"
        },
        "id": "hE6VTJMNCfIu",
        "outputId": "afd4edc1-8d49-424d-cf91-aafb63beb367"
      },
      "id": "hE6VTJMNCfIu",
      "execution_count": null,
      "outputs": [
        {
          "output_type": "stream",
          "name": "stdout",
          "text": [
            "Prediction for Normal Test Input Using SVM: normal\n"
          ]
        }
      ]
    },
    {
      "cell_type": "markdown",
      "source": [
        "## **Testing SVM for Attack Input (Neptune)**"
      ],
      "metadata": {
        "id": "QtdPRNbnDN80"
      },
      "id": "QtdPRNbnDN80"
    },
    {
      "cell_type": "code",
      "source": [
        "\n",
        "prediction_attack = svm_best_model.predict(test_input_attack_scaled)\n",
        "\n",
        "label_encoder = encoders['labels']\n",
        "\n",
        "decoded_prediction_attack = label_encoder.inverse_transform(prediction_attack)\n",
        "print(f\"\\nPrediction for Attack Test Input Using SVM: {decoded_prediction_attack[0]}\")\n"
      ],
      "metadata": {
        "colab": {
          "base_uri": "https://localhost:8080/"
        },
        "id": "AGVvgXWzCyTL",
        "outputId": "4f9d4286-4ee5-483d-bca3-ae79a11b92f7"
      },
      "id": "AGVvgXWzCyTL",
      "execution_count": null,
      "outputs": [
        {
          "output_type": "stream",
          "name": "stdout",
          "text": [
            "\n",
            "Prediction for Attack Test Input Using SVM: neptune\n"
          ]
        }
      ]
    },
    {
      "cell_type": "markdown",
      "source": [
        "\n",
        "\n",
        "---\n",
        "\n"
      ],
      "metadata": {
        "id": "GNEf_2YOG7kr"
      },
      "id": "GNEf_2YOG7kr"
    },
    {
      "cell_type": "markdown",
      "source": [
        "# **Now for Logistic Regression Model**"
      ],
      "metadata": {
        "id": "J4LOELRGGXUx"
      },
      "id": "J4LOELRGGXUx"
    },
    {
      "cell_type": "markdown",
      "source": [
        "## **Testing LR for Safe Input (Normal)**"
      ],
      "metadata": {
        "id": "Nvi5Qe-mCBpC"
      },
      "id": "Nvi5Qe-mCBpC"
    },
    {
      "cell_type": "code",
      "source": [
        "\n",
        "prediction = logistic_regression_model.predict(test_input_normal_scaled)\n",
        "\n",
        "#  Decode and Print Prediction\n",
        "label_encoder = encoders['labels']\n",
        "decoded_prediction = label_encoder.inverse_transform(prediction)\n",
        "print(f\"\\nPrediction for Test Input USING LR: {decoded_prediction[0]}\")"
      ],
      "metadata": {
        "colab": {
          "base_uri": "https://localhost:8080/"
        },
        "id": "r1UwXvN1CqrX",
        "outputId": "9f736333-1563-4143-9f94-ec4c50413aad"
      },
      "id": "r1UwXvN1CqrX",
      "execution_count": null,
      "outputs": [
        {
          "output_type": "stream",
          "name": "stdout",
          "text": [
            "\n",
            "Prediction for Test Input USING LR: normal\n"
          ]
        }
      ]
    },
    {
      "cell_type": "markdown",
      "source": [
        "## **Testing LR for Attack Input (Neptune)**"
      ],
      "metadata": {
        "id": "_AQzovfxB6YB"
      },
      "id": "_AQzovfxB6YB"
    },
    {
      "cell_type": "code",
      "source": [
        "\n",
        "prediction = logistic_regression_model.predict(test_input_attack_scaled)\n",
        "\n",
        "# Decode and Print Prediction\n",
        "label_encoder = encoders['labels']\n",
        "decoded_prediction = label_encoder.inverse_transform(prediction)\n",
        "print(f\"\\nPrediction for Test Input Using LR: {decoded_prediction[0]}\")"
      ],
      "metadata": {
        "colab": {
          "base_uri": "https://localhost:8080/"
        },
        "id": "vMFSxVswB0pf",
        "outputId": "c5f225ac-688f-4907-ef24-e5b558047bc9"
      },
      "id": "vMFSxVswB0pf",
      "execution_count": null,
      "outputs": [
        {
          "output_type": "stream",
          "name": "stdout",
          "text": [
            "\n",
            "Prediction for Test Input Using LR: neptune\n"
          ]
        }
      ]
    },
    {
      "cell_type": "markdown",
      "source": [
        "\n",
        "\n",
        "---\n",
        "\n"
      ],
      "metadata": {
        "id": "54W4ndz7MAxP"
      },
      "id": "54W4ndz7MAxP"
    },
    {
      "cell_type": "markdown",
      "source": [
        "# **Learing and Validation Curve for the best performing Model (Random Forest)**"
      ],
      "metadata": {
        "id": "gmGJgB66MBqr"
      },
      "id": "gmGJgB66MBqr"
    },
    {
      "cell_type": "code",
      "source": [
        "def plot_learning_curve(model, X, y, cv=5, scoring='accuracy'):\n",
        "  train_sizes, train_scores, val_scores = learning_curve(\n",
        "      model, X, y, cv=cv, scoring=scoring, train_sizes=np.linspace(0.1, 1.0, 5)) # train size in steps\n",
        "\n",
        "  train_mean = np.mean(train_scores, axis=1)\n",
        "  train_std = np.std(train_scores, axis=1)\n",
        "  val_mean = np.mean(val_scores, axis=1)\n",
        "  val_std = np.std(val_scores, axis=1)\n",
        "\n",
        "  plt.figure(figsize=(10,6))\n",
        "  plt.plot(train_sizes, train_mean, color='b', marker='o', label='Training Score')\n",
        "  plt.fill_between(train_sizes, train_mean + train_std, train_mean - train_std, color='b', alpha=0.15)\n",
        "  plt.plot(train_sizes, val_mean, color='r', marker='o', label='Validation Score')\n",
        "  plt.fill_between(train_sizes, val_mean + val_std, val_mean - val_std, color='r', alpha=0.15)\n",
        "\n",
        "  plt.title('Learning Curve')\n",
        "  plt.xlabel('Number of Training Samples')\n",
        "  plt.ylabel(scoring)\n",
        "  plt.grid(True)\n",
        "  plt.legend(loc='best')\n",
        "  plt.show()\n",
        "\n",
        "#Plotting Learning Curve\n",
        "plot_learning_curve(rf_best_model, X_train, y_train)"
      ],
      "metadata": {
        "colab": {
          "base_uri": "https://localhost:8080/",
          "height": 599
        },
        "id": "t1Ki4JDh_57M",
        "outputId": "baee4493-f5e2-42b4-ec13-9882f3b17632"
      },
      "id": "t1Ki4JDh_57M",
      "execution_count": null,
      "outputs": [
        {
          "output_type": "stream",
          "name": "stderr",
          "text": [
            "/usr/local/lib/python3.11/dist-packages/sklearn/model_selection/_split.py:805: UserWarning: The least populated class in y has only 1 members, which is less than n_splits=5.\n",
            "  warnings.warn(\n"
          ]
        },
        {
          "output_type": "display_data",
          "data": {
            "text/plain": [
              "<Figure size 1000x600 with 1 Axes>"
            ],
            "image/png": "[encoded data removed]"
          },
          "metadata": {}
        }
      ]
    },
    {
      "cell_type": "code",
      "source": [
        "\n",
        "def plot_validation_curve(model, X, y, param_name, param_range, cv=3, scoring='accuracy'):\n",
        "    train_scores, test_scores = validation_curve(\n",
        "        model, X, y, param_name=param_name, param_range=param_range,\n",
        "        cv=cv, scoring=scoring\n",
        "    )\n",
        "\n",
        "    train_scores_mean = np.mean(train_scores, axis=1)\n",
        "    train_scores_std = np.std(train_scores, axis=1)\n",
        "    test_scores_mean = np.mean(test_scores, axis=1)\n",
        "    test_scores_std = np.std(test_scores, axis=1)\n",
        "\n",
        "    plt.figure(figsize=(10, 5))\n",
        "    plt.title('Validation Curve')\n",
        "    plt.xlabel(param_name)\n",
        "    plt.ylabel(scoring)\n",
        "    plt.grid(True)\n",
        "    plt.fill_between(param_range, train_scores_mean - train_scores_std,\n",
        "                     train_scores_mean + train_scores_std, alpha=0.1,\n",
        "                     color=\"b\")\n",
        "    plt.fill_between(param_range, test_scores_mean - test_scores_std,\n",
        "                     test_scores_mean + test_scores_std, alpha=0.1,\n",
        "                     color=\"r\")\n",
        "    plt.plot(param_range, train_scores_mean, 'o-', color='b', label='Training score')\n",
        "    plt.plot(param_range, test_scores_mean, 'o-', color='r', label='Validation score')\n",
        "\n",
        "    plt.legend(loc='best')\n",
        "    plt.show()\n",
        "param_range_max_depth =  [3, 5, 7, 10, 15, 20]\n",
        "param_range_min_sample_split = [2, 5, 10, 15, 20, 25]\n",
        "\n",
        "plot_validation_curve(RandomForestClassifier(random_state = 42), X_train, y_train, 'max_depth', param_range_max_depth )\n"
      ],
      "metadata": {
        "colab": {
          "base_uri": "https://localhost:8080/",
          "height": 522
        },
        "id": "pjZDHijcFeLP",
        "outputId": "4ae283e5-5548-4b65-ca47-0b6be16429c7"
      },
      "id": "pjZDHijcFeLP",
      "execution_count": null,
      "outputs": [
        {
          "output_type": "stream",
          "name": "stderr",
          "text": [
            "/usr/local/lib/python3.11/dist-packages/sklearn/model_selection/_split.py:805: UserWarning: The least populated class in y has only 1 members, which is less than n_splits=3.\n",
            "  warnings.warn(\n"
          ]
        },
        {
          "output_type": "display_data",
          "data": {
            "text/plain": [
              "<Figure size 1000x500 with 1 Axes>"
            ],
            "image/png": "[encoded data removed]"
          },
          "metadata": {}
        }
      ]
    },
    {
      "cell_type": "code",
      "source": [
        "\n",
        "def evaluate_model(model, X_train, y_train, X_test, y_test):\n",
        "    \"\"\"Evaluates model and presents metrics in a table.\"\"\"\n",
        "    y_train_pred = model.predict(X_train)\n",
        "    y_test_pred = model.predict(X_test)\n",
        "\n",
        "    metrics_table = pd.DataFrame({\n",
        "        'Metric': ['Accuracy', 'Precision', 'Recall', 'F1-Score'],\n",
        "        'Training': [accuracy_score(y_train, y_train_pred),\n",
        "                     precision_score(y_train, y_train_pred, average='weighted', zero_division=0),\n",
        "                     recall_score(y_train, y_train_pred, average='weighted', zero_division=0),\n",
        "                     f1_score(y_train, y_train_pred, average='weighted', zero_division=0)],\n",
        "\n",
        "        'Test': [accuracy_score(y_test, y_test_pred),\n",
        "                precision_score(y_test, y_test_pred, average='weighted', zero_division=0),\n",
        "                recall_score(y_test, y_test_pred, average='weighted', zero_division=0),\n",
        "                f1_score(y_test, y_test_pred, average='weighted', zero_division=0)]\n",
        "    })\n",
        "    print(\"\\nTabular Metrics Comparison:\")\n",
        "    print(metrics_table)\n",
        "\n",
        "#Evaluate using the function\n",
        "evaluate_model(rf_best_model, X_train, y_train, X_test, y_test)"
      ],
      "metadata": {
        "colab": {
          "base_uri": "https://localhost:8080/"
        },
        "id": "rC4KO9VrHxDz",
        "outputId": "8ef097fb-828e-4a3a-cdb0-cd19446570d4"
      },
      "id": "rC4KO9VrHxDz",
      "execution_count": null,
      "outputs": [
        {
          "output_type": "stream",
          "name": "stdout",
          "text": [
            "\n",
            "Tabular Metrics Comparison:\n",
            "      Metric  Training      Test\n",
            "0   Accuracy  0.999456  0.912615\n",
            "1  Precision  0.999429  0.870788\n",
            "2     Recall  0.999456  0.912615\n",
            "3   F1-Score  0.999437  0.874649\n"
          ]
        }
      ]
    },
    {
      "cell_type": "code",
      "source": [
        "\n",
        "def plot_confusion_matrix(model, X_test, y_test):\n",
        "  y_pred = model.predict(X_test)\n",
        "  cm = confusion_matrix(y_test, y_pred)\n",
        "\n",
        "  plt.figure(figsize=(6, 5))\n",
        "  sns.heatmap(cm, annot=True, fmt='d', cmap='Blues')\n",
        "  plt.title('Confusion Matrix')\n",
        "  plt.xlabel('Predicted Label')\n",
        "  plt.ylabel('True Label')\n",
        "  plt.show()\n",
        "\n",
        "plot_confusion_matrix(rf_best_model, X_test, y_test)"
      ],
      "metadata": {
        "colab": {
          "base_uri": "https://localhost:8080/",
          "height": 491
        },
        "id": "h0VAu-xPHY2d",
        "outputId": "88f4a9bd-7b0d-458f-b5bb-6bfc51fd1404"
      },
      "id": "h0VAu-xPHY2d",
      "execution_count": null,
      "outputs": [
        {
          "output_type": "display_data",
          "data": {
            "text/plain": [
              "<Figure size 600x500 with 2 Axes>"
            ],
            "image/png": "[encoded data removed]"
          },
          "metadata": {}
        }
      ]
    }
  ],
  "metadata": {
    "kernelspec": {
      "display_name": "Python 3",
      "name": "python3"
    },
    "language_info": {
      "codemirror_mode": {
        "name": "ipython",
        "version": 3
      },
      "file_extension": ".py",
      "mimetype": "text/x-python",
      "name": "python",
      "nbconvert_exporter": "python",
      "pygments_lexer": "ipython3",
      "version": "3.12.8"
    },
    "colab": {
      "provenance": [],
      "gpuType": "T4"
    },
    "accelerator": "GPU"
  },
  "nbformat": 4,
  "nbformat_minor": 5
}